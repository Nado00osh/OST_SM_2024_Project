{
  "nbformat": 4,
  "nbformat_minor": 0,
  "metadata": {
    "colab": {
      "provenance": []
    },
    "kernelspec": {
      "name": "python3",
      "display_name": "Python 3"
    },
    "language_info": {
      "name": "python"
    }
  },
  "cells": [
    {
      "cell_type": "markdown",
      "source": [
        "## Importing Necessary Libraries"
      ],
      "metadata": {
        "id": "vCr1_xsmfobF"
      }
    },
    {
      "cell_type": "code",
      "execution_count": 2,
      "metadata": {
        "colab": {
          "base_uri": "https://localhost:8080/"
        },
        "id": "5nn5AqoIZXmM",
        "outputId": "035d9f59-82ae-457f-f51d-fe567d95ca92"
      },
      "outputs": [
        {
          "output_type": "stream",
          "name": "stdout",
          "text": [
            "Mounted at /content/drive\n"
          ]
        }
      ],
      "source": [
        "import numpy as np\n",
        "import pandas as pd\n",
        "import matplotlib.pyplot as plt\n",
        "import seaborn as sns\n",
        "from google.colab import drive\n",
        "drive.mount('/content/drive')\n"
      ]
    },
    {
      "cell_type": "code",
      "source": [
        "from sklearn.metrics import silhouette_score, classification_report\n",
        "from sklearn.model_selection import ParameterGrid\n",
        "from sklearn.mixture import GaussianMixture\n",
        "from tqdm import tqdm\n",
        "from sklearn.decomposition import PCA\n",
        "from sklearn.preprocessing import StandardScaler\n",
        "from sklearn.pipeline import Pipeline\n",
        "from sklearn.model_selection import train_test_split\n",
        "from sklearn.ensemble import RandomForestClassifier\n",
        "from sklearn.metrics import classification_report, confusion_matrix\n",
        "import pickle"
      ],
      "metadata": {
        "id": "OIFGtw95fnFc"
      },
      "execution_count": 12,
      "outputs": []
    },
    {
      "cell_type": "markdown",
      "source": [
        "## Loading the Dataset"
      ],
      "metadata": {
        "id": "BbuHMS74fvAb"
      }
    },
    {
      "cell_type": "code",
      "source": [
        "import shutil\n",
        "\n",
        "# Source and destination paths\n",
        "source = '/content/drive/MyDrive/OST/2018Floor3_features_selected.zip'\n",
        "destination = '/content/data.zip'\n",
        "\n",
        "# Copy the file\n",
        "shutil.copy(source, destination)\n"
      ],
      "metadata": {
        "colab": {
          "base_uri": "https://localhost:8080/",
          "height": 36
        },
        "id": "PsEc0F-raKj7",
        "outputId": "59ca18de-c42b-4ab5-e33c-0521095958bd"
      },
      "execution_count": 3,
      "outputs": [
        {
          "output_type": "execute_result",
          "data": {
            "text/plain": [
              "'/content/data.zip'"
            ],
            "application/vnd.google.colaboratory.intrinsic+json": {
              "type": "string"
            }
          },
          "metadata": {},
          "execution_count": 3
        }
      ]
    },
    {
      "cell_type": "code",
      "source": [
        "import zipfile\n",
        "\n",
        "# Path to the ZIP file and extraction folder\n",
        "zip_path = '/content/data.zip'\n",
        "extract_to = '/content/dataset/'\n",
        "\n",
        "# Extract the ZIP file\n",
        "with zipfile.ZipFile(zip_path, 'r') as zip_ref:\n",
        "    zip_ref.extractall(extract_to)\n"
      ],
      "metadata": {
        "id": "Qz4zwEAFa4LH"
      },
      "execution_count": 4,
      "outputs": []
    },
    {
      "cell_type": "code",
      "source": [
        "import os\n",
        "\n",
        "# List extracted files\n",
        "print(os.listdir('/content/dataset/'))\n"
      ],
      "metadata": {
        "colab": {
          "base_uri": "https://localhost:8080/"
        },
        "id": "MbdkJrTIbDy3",
        "outputId": "e734d083-b1f6-40cb-a8c3-4439336a4760"
      },
      "execution_count": 5,
      "outputs": [
        {
          "output_type": "stream",
          "name": "stdout",
          "text": [
            "['2018Floor3_features_selected.csv']\n"
          ]
        }
      ]
    },
    {
      "cell_type": "markdown",
      "source": [
        "### Viewing Data"
      ],
      "metadata": {
        "id": "CNh7rB8rf09-"
      }
    },
    {
      "cell_type": "code",
      "source": [
        "import pandas as pd\n",
        "\n",
        "# Load a CSV file\n",
        "df = pd.read_csv('/content/dataset/2018Floor3_features_selected.csv')\n",
        "\n",
        "# Display the first few rows\n",
        "df.head()\n"
      ],
      "metadata": {
        "colab": {
          "base_uri": "https://localhost:8080/",
          "height": 256
        },
        "id": "ir1YPjNubH8y",
        "outputId": "a423a918-df1a-4084-c8a6-e66c563cbb0a"
      },
      "execution_count": 7,
      "outputs": [
        {
          "output_type": "execute_result",
          "data": {
            "text/plain": [
              "   z1_AC2(kW)  z1_AC4(kW)  z1_Plug(kW)  z1_S1(RH%)  z1_S1(lux)  z2_AC1(kW)  \\\n",
              "0         0.0        8.74         0.22       62.50         0.0         0.0   \n",
              "1         0.0        8.74         0.23       62.50         0.0         0.0   \n",
              "2         0.0        8.61         0.22       62.50         0.0         0.0   \n",
              "3         0.0        8.81         0.23       62.50         0.0         0.0   \n",
              "4         0.0        8.89         0.22       62.51         0.0         0.0   \n",
              "\n",
              "   z2_Light(kW)  z2_Plug(kW)  z2_S1(RH%)  z2_S1(lux)  ...  z4_AC1(kW)  \\\n",
              "0           0.0         0.15       65.74         0.0  ...         0.0   \n",
              "1           0.0         0.15       65.74         0.0  ...         0.0   \n",
              "2           0.0         0.15       65.74         0.0  ...         0.0   \n",
              "3           0.0         0.15       65.73         0.0  ...         0.0   \n",
              "4           0.0         0.15       65.73         0.0  ...         0.0   \n",
              "\n",
              "   z4_Light(kW)  z4_Plug(kW)  z4_S1(RH%)  z4_S1(lux)  z5_AC1(kW)  \\\n",
              "0           0.0         0.07         0.0         0.0         0.0   \n",
              "1           0.0         0.07         0.0         0.0         0.0   \n",
              "2           0.0         0.08         0.0         0.0         0.0   \n",
              "3           0.0         0.08         0.0         0.0         0.0   \n",
              "4           0.0         0.07         0.0         0.0         0.0   \n",
              "\n",
              "   z5_Light(kW)  z5_Plug(kW)  z5_S1(RH%)  z5_S1(lux)  \n",
              "0           0.0         0.15       62.86         0.0  \n",
              "1           0.0         0.14       62.87         0.0  \n",
              "2           0.0         0.14       62.88         0.0  \n",
              "3           0.0         0.14       62.88         0.0  \n",
              "4           0.0         0.14       62.88         0.0  \n",
              "\n",
              "[5 rows x 22 columns]"
            ],
            "text/html": [
              "\n",
              "  <div id=\"df-221a3bb7-cf7a-4c0b-81a4-d33873fd7ba3\" class=\"colab-df-container\">\n",
              "    <div>\n",
              "<style scoped>\n",
              "    .dataframe tbody tr th:only-of-type {\n",
              "        vertical-align: middle;\n",
              "    }\n",
              "\n",
              "    .dataframe tbody tr th {\n",
              "        vertical-align: top;\n",
              "    }\n",
              "\n",
              "    .dataframe thead th {\n",
              "        text-align: right;\n",
              "    }\n",
              "</style>\n",
              "<table border=\"1\" class=\"dataframe\">\n",
              "  <thead>\n",
              "    <tr style=\"text-align: right;\">\n",
              "      <th></th>\n",
              "      <th>z1_AC2(kW)</th>\n",
              "      <th>z1_AC4(kW)</th>\n",
              "      <th>z1_Plug(kW)</th>\n",
              "      <th>z1_S1(RH%)</th>\n",
              "      <th>z1_S1(lux)</th>\n",
              "      <th>z2_AC1(kW)</th>\n",
              "      <th>z2_Light(kW)</th>\n",
              "      <th>z2_Plug(kW)</th>\n",
              "      <th>z2_S1(RH%)</th>\n",
              "      <th>z2_S1(lux)</th>\n",
              "      <th>...</th>\n",
              "      <th>z4_AC1(kW)</th>\n",
              "      <th>z4_Light(kW)</th>\n",
              "      <th>z4_Plug(kW)</th>\n",
              "      <th>z4_S1(RH%)</th>\n",
              "      <th>z4_S1(lux)</th>\n",
              "      <th>z5_AC1(kW)</th>\n",
              "      <th>z5_Light(kW)</th>\n",
              "      <th>z5_Plug(kW)</th>\n",
              "      <th>z5_S1(RH%)</th>\n",
              "      <th>z5_S1(lux)</th>\n",
              "    </tr>\n",
              "  </thead>\n",
              "  <tbody>\n",
              "    <tr>\n",
              "      <th>0</th>\n",
              "      <td>0.0</td>\n",
              "      <td>8.74</td>\n",
              "      <td>0.22</td>\n",
              "      <td>62.50</td>\n",
              "      <td>0.0</td>\n",
              "      <td>0.0</td>\n",
              "      <td>0.0</td>\n",
              "      <td>0.15</td>\n",
              "      <td>65.74</td>\n",
              "      <td>0.0</td>\n",
              "      <td>...</td>\n",
              "      <td>0.0</td>\n",
              "      <td>0.0</td>\n",
              "      <td>0.07</td>\n",
              "      <td>0.0</td>\n",
              "      <td>0.0</td>\n",
              "      <td>0.0</td>\n",
              "      <td>0.0</td>\n",
              "      <td>0.15</td>\n",
              "      <td>62.86</td>\n",
              "      <td>0.0</td>\n",
              "    </tr>\n",
              "    <tr>\n",
              "      <th>1</th>\n",
              "      <td>0.0</td>\n",
              "      <td>8.74</td>\n",
              "      <td>0.23</td>\n",
              "      <td>62.50</td>\n",
              "      <td>0.0</td>\n",
              "      <td>0.0</td>\n",
              "      <td>0.0</td>\n",
              "      <td>0.15</td>\n",
              "      <td>65.74</td>\n",
              "      <td>0.0</td>\n",
              "      <td>...</td>\n",
              "      <td>0.0</td>\n",
              "      <td>0.0</td>\n",
              "      <td>0.07</td>\n",
              "      <td>0.0</td>\n",
              "      <td>0.0</td>\n",
              "      <td>0.0</td>\n",
              "      <td>0.0</td>\n",
              "      <td>0.14</td>\n",
              "      <td>62.87</td>\n",
              "      <td>0.0</td>\n",
              "    </tr>\n",
              "    <tr>\n",
              "      <th>2</th>\n",
              "      <td>0.0</td>\n",
              "      <td>8.61</td>\n",
              "      <td>0.22</td>\n",
              "      <td>62.50</td>\n",
              "      <td>0.0</td>\n",
              "      <td>0.0</td>\n",
              "      <td>0.0</td>\n",
              "      <td>0.15</td>\n",
              "      <td>65.74</td>\n",
              "      <td>0.0</td>\n",
              "      <td>...</td>\n",
              "      <td>0.0</td>\n",
              "      <td>0.0</td>\n",
              "      <td>0.08</td>\n",
              "      <td>0.0</td>\n",
              "      <td>0.0</td>\n",
              "      <td>0.0</td>\n",
              "      <td>0.0</td>\n",
              "      <td>0.14</td>\n",
              "      <td>62.88</td>\n",
              "      <td>0.0</td>\n",
              "    </tr>\n",
              "    <tr>\n",
              "      <th>3</th>\n",
              "      <td>0.0</td>\n",
              "      <td>8.81</td>\n",
              "      <td>0.23</td>\n",
              "      <td>62.50</td>\n",
              "      <td>0.0</td>\n",
              "      <td>0.0</td>\n",
              "      <td>0.0</td>\n",
              "      <td>0.15</td>\n",
              "      <td>65.73</td>\n",
              "      <td>0.0</td>\n",
              "      <td>...</td>\n",
              "      <td>0.0</td>\n",
              "      <td>0.0</td>\n",
              "      <td>0.08</td>\n",
              "      <td>0.0</td>\n",
              "      <td>0.0</td>\n",
              "      <td>0.0</td>\n",
              "      <td>0.0</td>\n",
              "      <td>0.14</td>\n",
              "      <td>62.88</td>\n",
              "      <td>0.0</td>\n",
              "    </tr>\n",
              "    <tr>\n",
              "      <th>4</th>\n",
              "      <td>0.0</td>\n",
              "      <td>8.89</td>\n",
              "      <td>0.22</td>\n",
              "      <td>62.51</td>\n",
              "      <td>0.0</td>\n",
              "      <td>0.0</td>\n",
              "      <td>0.0</td>\n",
              "      <td>0.15</td>\n",
              "      <td>65.73</td>\n",
              "      <td>0.0</td>\n",
              "      <td>...</td>\n",
              "      <td>0.0</td>\n",
              "      <td>0.0</td>\n",
              "      <td>0.07</td>\n",
              "      <td>0.0</td>\n",
              "      <td>0.0</td>\n",
              "      <td>0.0</td>\n",
              "      <td>0.0</td>\n",
              "      <td>0.14</td>\n",
              "      <td>62.88</td>\n",
              "      <td>0.0</td>\n",
              "    </tr>\n",
              "  </tbody>\n",
              "</table>\n",
              "<p>5 rows × 22 columns</p>\n",
              "</div>\n",
              "    <div class=\"colab-df-buttons\">\n",
              "\n",
              "  <div class=\"colab-df-container\">\n",
              "    <button class=\"colab-df-convert\" onclick=\"convertToInteractive('df-221a3bb7-cf7a-4c0b-81a4-d33873fd7ba3')\"\n",
              "            title=\"Convert this dataframe to an interactive table.\"\n",
              "            style=\"display:none;\">\n",
              "\n",
              "  <svg xmlns=\"http://www.w3.org/2000/svg\" height=\"24px\" viewBox=\"0 -960 960 960\">\n",
              "    <path d=\"M120-120v-720h720v720H120Zm60-500h600v-160H180v160Zm220 220h160v-160H400v160Zm0 220h160v-160H400v160ZM180-400h160v-160H180v160Zm440 0h160v-160H620v160ZM180-180h160v-160H180v160Zm440 0h160v-160H620v160Z\"/>\n",
              "  </svg>\n",
              "    </button>\n",
              "\n",
              "  <style>\n",
              "    .colab-df-container {\n",
              "      display:flex;\n",
              "      gap: 12px;\n",
              "    }\n",
              "\n",
              "    .colab-df-convert {\n",
              "      background-color: #E8F0FE;\n",
              "      border: none;\n",
              "      border-radius: 50%;\n",
              "      cursor: pointer;\n",
              "      display: none;\n",
              "      fill: #1967D2;\n",
              "      height: 32px;\n",
              "      padding: 0 0 0 0;\n",
              "      width: 32px;\n",
              "    }\n",
              "\n",
              "    .colab-df-convert:hover {\n",
              "      background-color: #E2EBFA;\n",
              "      box-shadow: 0px 1px 2px rgba(60, 64, 67, 0.3), 0px 1px 3px 1px rgba(60, 64, 67, 0.15);\n",
              "      fill: #174EA6;\n",
              "    }\n",
              "\n",
              "    .colab-df-buttons div {\n",
              "      margin-bottom: 4px;\n",
              "    }\n",
              "\n",
              "    [theme=dark] .colab-df-convert {\n",
              "      background-color: #3B4455;\n",
              "      fill: #D2E3FC;\n",
              "    }\n",
              "\n",
              "    [theme=dark] .colab-df-convert:hover {\n",
              "      background-color: #434B5C;\n",
              "      box-shadow: 0px 1px 3px 1px rgba(0, 0, 0, 0.15);\n",
              "      filter: drop-shadow(0px 1px 2px rgba(0, 0, 0, 0.3));\n",
              "      fill: #FFFFFF;\n",
              "    }\n",
              "  </style>\n",
              "\n",
              "    <script>\n",
              "      const buttonEl =\n",
              "        document.querySelector('#df-221a3bb7-cf7a-4c0b-81a4-d33873fd7ba3 button.colab-df-convert');\n",
              "      buttonEl.style.display =\n",
              "        google.colab.kernel.accessAllowed ? 'block' : 'none';\n",
              "\n",
              "      async function convertToInteractive(key) {\n",
              "        const element = document.querySelector('#df-221a3bb7-cf7a-4c0b-81a4-d33873fd7ba3');\n",
              "        const dataTable =\n",
              "          await google.colab.kernel.invokeFunction('convertToInteractive',\n",
              "                                                    [key], {});\n",
              "        if (!dataTable) return;\n",
              "\n",
              "        const docLinkHtml = 'Like what you see? Visit the ' +\n",
              "          '<a target=\"_blank\" href=https://colab.research.google.com/notebooks/data_table.ipynb>data table notebook</a>'\n",
              "          + ' to learn more about interactive tables.';\n",
              "        element.innerHTML = '';\n",
              "        dataTable['output_type'] = 'display_data';\n",
              "        await google.colab.output.renderOutput(dataTable, element);\n",
              "        const docLink = document.createElement('div');\n",
              "        docLink.innerHTML = docLinkHtml;\n",
              "        element.appendChild(docLink);\n",
              "      }\n",
              "    </script>\n",
              "  </div>\n",
              "\n",
              "\n",
              "<div id=\"df-b669ba1c-289e-4f45-bcd3-1b47ddaeb60f\">\n",
              "  <button class=\"colab-df-quickchart\" onclick=\"quickchart('df-b669ba1c-289e-4f45-bcd3-1b47ddaeb60f')\"\n",
              "            title=\"Suggest charts\"\n",
              "            style=\"display:none;\">\n",
              "\n",
              "<svg xmlns=\"http://www.w3.org/2000/svg\" height=\"24px\"viewBox=\"0 0 24 24\"\n",
              "     width=\"24px\">\n",
              "    <g>\n",
              "        <path d=\"M19 3H5c-1.1 0-2 .9-2 2v14c0 1.1.9 2 2 2h14c1.1 0 2-.9 2-2V5c0-1.1-.9-2-2-2zM9 17H7v-7h2v7zm4 0h-2V7h2v10zm4 0h-2v-4h2v4z\"/>\n",
              "    </g>\n",
              "</svg>\n",
              "  </button>\n",
              "\n",
              "<style>\n",
              "  .colab-df-quickchart {\n",
              "      --bg-color: #E8F0FE;\n",
              "      --fill-color: #1967D2;\n",
              "      --hover-bg-color: #E2EBFA;\n",
              "      --hover-fill-color: #174EA6;\n",
              "      --disabled-fill-color: #AAA;\n",
              "      --disabled-bg-color: #DDD;\n",
              "  }\n",
              "\n",
              "  [theme=dark] .colab-df-quickchart {\n",
              "      --bg-color: #3B4455;\n",
              "      --fill-color: #D2E3FC;\n",
              "      --hover-bg-color: #434B5C;\n",
              "      --hover-fill-color: #FFFFFF;\n",
              "      --disabled-bg-color: #3B4455;\n",
              "      --disabled-fill-color: #666;\n",
              "  }\n",
              "\n",
              "  .colab-df-quickchart {\n",
              "    background-color: var(--bg-color);\n",
              "    border: none;\n",
              "    border-radius: 50%;\n",
              "    cursor: pointer;\n",
              "    display: none;\n",
              "    fill: var(--fill-color);\n",
              "    height: 32px;\n",
              "    padding: 0;\n",
              "    width: 32px;\n",
              "  }\n",
              "\n",
              "  .colab-df-quickchart:hover {\n",
              "    background-color: var(--hover-bg-color);\n",
              "    box-shadow: 0 1px 2px rgba(60, 64, 67, 0.3), 0 1px 3px 1px rgba(60, 64, 67, 0.15);\n",
              "    fill: var(--button-hover-fill-color);\n",
              "  }\n",
              "\n",
              "  .colab-df-quickchart-complete:disabled,\n",
              "  .colab-df-quickchart-complete:disabled:hover {\n",
              "    background-color: var(--disabled-bg-color);\n",
              "    fill: var(--disabled-fill-color);\n",
              "    box-shadow: none;\n",
              "  }\n",
              "\n",
              "  .colab-df-spinner {\n",
              "    border: 2px solid var(--fill-color);\n",
              "    border-color: transparent;\n",
              "    border-bottom-color: var(--fill-color);\n",
              "    animation:\n",
              "      spin 1s steps(1) infinite;\n",
              "  }\n",
              "\n",
              "  @keyframes spin {\n",
              "    0% {\n",
              "      border-color: transparent;\n",
              "      border-bottom-color: var(--fill-color);\n",
              "      border-left-color: var(--fill-color);\n",
              "    }\n",
              "    20% {\n",
              "      border-color: transparent;\n",
              "      border-left-color: var(--fill-color);\n",
              "      border-top-color: var(--fill-color);\n",
              "    }\n",
              "    30% {\n",
              "      border-color: transparent;\n",
              "      border-left-color: var(--fill-color);\n",
              "      border-top-color: var(--fill-color);\n",
              "      border-right-color: var(--fill-color);\n",
              "    }\n",
              "    40% {\n",
              "      border-color: transparent;\n",
              "      border-right-color: var(--fill-color);\n",
              "      border-top-color: var(--fill-color);\n",
              "    }\n",
              "    60% {\n",
              "      border-color: transparent;\n",
              "      border-right-color: var(--fill-color);\n",
              "    }\n",
              "    80% {\n",
              "      border-color: transparent;\n",
              "      border-right-color: var(--fill-color);\n",
              "      border-bottom-color: var(--fill-color);\n",
              "    }\n",
              "    90% {\n",
              "      border-color: transparent;\n",
              "      border-bottom-color: var(--fill-color);\n",
              "    }\n",
              "  }\n",
              "</style>\n",
              "\n",
              "  <script>\n",
              "    async function quickchart(key) {\n",
              "      const quickchartButtonEl =\n",
              "        document.querySelector('#' + key + ' button');\n",
              "      quickchartButtonEl.disabled = true;  // To prevent multiple clicks.\n",
              "      quickchartButtonEl.classList.add('colab-df-spinner');\n",
              "      try {\n",
              "        const charts = await google.colab.kernel.invokeFunction(\n",
              "            'suggestCharts', [key], {});\n",
              "      } catch (error) {\n",
              "        console.error('Error during call to suggestCharts:', error);\n",
              "      }\n",
              "      quickchartButtonEl.classList.remove('colab-df-spinner');\n",
              "      quickchartButtonEl.classList.add('colab-df-quickchart-complete');\n",
              "    }\n",
              "    (() => {\n",
              "      let quickchartButtonEl =\n",
              "        document.querySelector('#df-b669ba1c-289e-4f45-bcd3-1b47ddaeb60f button');\n",
              "      quickchartButtonEl.style.display =\n",
              "        google.colab.kernel.accessAllowed ? 'block' : 'none';\n",
              "    })();\n",
              "  </script>\n",
              "</div>\n",
              "\n",
              "    </div>\n",
              "  </div>\n"
            ],
            "application/vnd.google.colaboratory.intrinsic+json": {
              "type": "dataframe",
              "variable_name": "df"
            }
          },
          "metadata": {},
          "execution_count": 7
        }
      ]
    },
    {
      "cell_type": "markdown",
      "source": [
        "## Preprocessing Data"
      ],
      "metadata": {
        "id": "BBvasgcLfbk3"
      }
    },
    {
      "cell_type": "code",
      "source": [
        "features=list(df.columns)"
      ],
      "metadata": {
        "id": "oD0WBAJf_Xk1"
      },
      "execution_count": 9,
      "outputs": []
    },
    {
      "cell_type": "code",
      "source": [
        "features"
      ],
      "metadata": {
        "colab": {
          "base_uri": "https://localhost:8080/"
        },
        "id": "LrQ8GZLY_ea9",
        "outputId": "b350167d-fabc-46f4-91bb-a83075e154af"
      },
      "execution_count": 10,
      "outputs": [
        {
          "output_type": "execute_result",
          "data": {
            "text/plain": [
              "['z1_AC2(kW)',\n",
              " 'z1_AC4(kW)',\n",
              " 'z1_Plug(kW)',\n",
              " 'z1_S1(RH%)',\n",
              " 'z1_S1(lux)',\n",
              " 'z2_AC1(kW)',\n",
              " 'z2_Light(kW)',\n",
              " 'z2_Plug(kW)',\n",
              " 'z2_S1(RH%)',\n",
              " 'z2_S1(lux)',\n",
              " 'z3_Light(kW)',\n",
              " 'z3_Plug(kW)',\n",
              " 'z4_AC1(kW)',\n",
              " 'z4_Light(kW)',\n",
              " 'z4_Plug(kW)',\n",
              " 'z4_S1(RH%)',\n",
              " 'z4_S1(lux)',\n",
              " 'z5_AC1(kW)',\n",
              " 'z5_Light(kW)',\n",
              " 'z5_Plug(kW)',\n",
              " 'z5_S1(RH%)',\n",
              " 'z5_S1(lux)']"
            ]
          },
          "metadata": {},
          "execution_count": 10
        }
      ]
    },
    {
      "cell_type": "code",
      "source": [
        "\n",
        "# Standardize the data\n",
        "scaler = StandardScaler()\n",
        "scaled_data = scaler.fit_transform(df)\n",
        "\n",
        "# Apply PCA\n",
        "PCA_COMPONENTS = 2  # Number of PCA components\n",
        "pca = PCA(n_components=PCA_COMPONENTS)\n",
        "pca_results = pca.fit_transform(scaled_data)\n",
        "\n",
        "# Add PCA results back to the dataframe\n",
        "df['PC1'] = pca_results[:, 0]\n",
        "df['PC2'] = pca_results[:, 1]"
      ],
      "metadata": {
        "id": "pET7AvQvfYxX"
      },
      "execution_count": 13,
      "outputs": []
    },
    {
      "cell_type": "markdown",
      "source": [
        "### Gaussian Mixture Model (GMM) for Anomaly Detection"
      ],
      "metadata": {
        "id": "ECtmuUdwgFXE"
      }
    },
    {
      "cell_type": "code",
      "source": [
        "# Define and fit the Gaussian Mixture Model\n",
        "GMM_CLUSTERS = 3  # Number of clusters\n",
        "gmm = GaussianMixture(n_components=GMM_CLUSTERS, covariance_type='full', random_state=42)\n",
        "\n",
        "# Fit the model and get predictions\n",
        "df['gmm_cluster'] = gmm.fit_predict(scaled_data)\n",
        "\n",
        "# Calculate the log-likelihood scores (anomaly scores)\n",
        "df['gmm_log_likelihood'] = gmm.score_samples(scaled_data)\n",
        "\n",
        "# Determine anomaly threshold\n",
        "ANOMALY_PERCENTILE = 1  # Top 1% most unlikely points are anomalies\n",
        "threshold = np.percentile(df['gmm_log_likelihood'], ANOMALY_PERCENTILE)\n",
        "\n",
        "# Label anomalies: 1 for anomaly, 0 for normal\n",
        "df['Anomaly'] = df['gmm_log_likelihood'].apply(lambda x: 1 if x < threshold else 0)\n"
      ],
      "metadata": {
        "id": "-ZqKL7Fhf8GB"
      },
      "execution_count": 14,
      "outputs": []
    },
    {
      "cell_type": "markdown",
      "source": [
        "## Visualizing"
      ],
      "metadata": {
        "id": "aCaSNGANgT7C"
      }
    },
    {
      "cell_type": "code",
      "source": [
        "# Scatter plot of PCA results with anomalies highlighted\n",
        "plt.figure(figsize=(10, 6))\n",
        "plt.scatter(df['PC1'], df['PC2'], c=df['Anomaly'], cmap='coolwarm', label='PCA Results')\n",
        "plt.scatter(\n",
        "    df.loc[df['Anomaly'] == 1, 'PC1'],\n",
        "    df.loc[df['Anomaly'] == 1, 'PC2'],\n",
        "    color='red',\n",
        "    label='Anomalies',\n",
        ")\n",
        "plt.title('PCA Results with Anomalies Highlighted')\n",
        "plt.xlabel('Principal Component 1')\n",
        "plt.ylabel('Principal Component 2')\n",
        "plt.legend()\n",
        "plt.show()\n",
        "\n",
        "# Distribution plot of anomaly scores\n",
        "plt.figure(figsize=(10, 6))\n",
        "sns.histplot(df['gmm_log_likelihood'], kde=True, color='orange', label='Log-Likelihood Scores')\n",
        "plt.axvline(x=threshold, color='red', linestyle='--', label='Anomaly Threshold')\n",
        "plt.title('Anomaly Score Distribution')\n",
        "plt.xlabel('Log-Likelihood Score')\n",
        "plt.ylabel('Frequency')\n",
        "plt.legend()\n",
        "plt.show()\n"
      ],
      "metadata": {
        "colab": {
          "base_uri": "https://localhost:8080/",
          "height": 1000
        },
        "id": "mf5FGgXkgOJ8",
        "outputId": "ebf31a85-f6b9-4487-fc38-a9895db2c73f"
      },
      "execution_count": 15,
      "outputs": [
        {
          "output_type": "display_data",
          "data": {
            "text/plain": [
              "<Figure size 1000x600 with 1 Axes>"
            ],
            "image/png": "[encoded data removed]"
          },
          "metadata": {}
        },
        {
          "output_type": "display_data",
          "data": {
            "text/plain": [
              "<Figure size 1000x600 with 1 Axes>"
            ],
            "image/png": "[encoded data removed]"
          },
          "metadata": {}
        }
      ]
    },
    {
      "cell_type": "markdown",
      "source": [
        "## Classification"
      ],
      "metadata": {
        "id": "c_65Zvxzg9h2"
      }
    },
    {
      "cell_type": "markdown",
      "source": [
        "### Data Preparation"
      ],
      "metadata": {
        "id": "0kmdPsmYjFBK"
      }
    },
    {
      "cell_type": "code",
      "source": [
        "from sklearn.utils import resample\n",
        "\n",
        "# Check class distribution\n",
        "print(\"Class distribution:\\n\", df['Anomaly'].value_counts())\n",
        "\n",
        "# Separate majority and minority classes\n",
        "normal = df[df['Anomaly'] == 0]\n",
        "anomalies = df[df['Anomaly'] == 1]\n",
        "\n",
        "# Oversample the minority class if there's an imbalance\n",
        "anomalies_upsampled = resample(anomalies,\n",
        "                                replace=True,\n",
        "                                n_samples=len(normal),\n",
        "                                random_state=42)\n",
        "\n",
        "# Combine back into a balanced dataset\n",
        "df_balanced = pd.concat([normal, anomalies_upsampled])\n",
        "\n",
        "# Shuffle the dataset\n",
        "df_balanced = df_balanced.sample(frac=1, random_state=42).reset_index(drop=True)\n",
        "\n",
        "# Define features (PCA components) and target (Anomaly)\n",
        "X = df_balanced[['PC1', 'PC2']]\n",
        "y = df_balanced['Anomaly']\n",
        "\n",
        "# Split data into train-test sets\n",
        "X_train, X_test, y_train, y_test = train_test_split(X, y, test_size=0.3, random_state=42)\n",
        "\n",
        "print(f\"Training set size: {X_train.shape}, Test set size: {X_test.shape}\")\n"
      ],
      "metadata": {
        "colab": {
          "base_uri": "https://localhost:8080/"
        },
        "id": "mQHC7QiVg7NO",
        "outputId": "884d64af-592c-40ce-b76e-75794ceb33b8"
      },
      "execution_count": 19,
      "outputs": [
        {
          "output_type": "stream",
          "name": "stdout",
          "text": [
            "Class distribution:\n",
            " Anomaly\n",
            "0    262310\n",
            "1      2650\n",
            "Name: count, dtype: int64\n",
            "Training set size: (367234, 2), Test set size: (157386, 2)\n"
          ]
        }
      ]
    },
    {
      "cell_type": "markdown",
      "source": [
        "### Model Training(XG Boost) and Hyperparameter Tuning"
      ],
      "metadata": {
        "id": "63SbNQ0IjYrq"
      }
    },
    {
      "cell_type": "code",
      "source": [
        "from xgboost import XGBClassifier\n",
        "from sklearn.model_selection import GridSearchCV\n",
        "\n",
        "# Define an XGBoost model\n",
        "xgb = XGBClassifier(random_state=42)\n",
        "\n",
        "# Define a parameter grid for fine-tuning\n",
        "param_grid = {\n",
        "    'n_estimators': [50, 100, 200],\n",
        "    'max_depth': [3, 5, 7],\n",
        "    'learning_rate': [0.01, 0.1, 0.2],\n",
        "    'subsample': [0.8, 1.0]\n",
        "}\n",
        "\n",
        "# Perform grid search for hyperparameter tuning\n",
        "grid_search = GridSearchCV(estimator=xgb, param_grid=param_grid, scoring='f1', cv=3, verbose=2)\n",
        "grid_search.fit(X_train, y_train)\n",
        "\n",
        "# Get the best model\n",
        "best_xgb = grid_search.best_estimator_\n",
        "\n",
        "# Print the best parameters\n",
        "print(\"Best parameters:\", grid_search.best_params_)\n",
        "\n",
        "# Train the best model on the training data\n",
        "best_xgb.fit(X_train, y_train)\n"
      ],
      "metadata": {
        "colab": {
          "base_uri": "https://localhost:8080/",
          "height": 1000
        },
        "id": "H5VbbaXEjO38",
        "outputId": "782b1db0-3169-407a-e319-fbd8e0d20aeb"
      },
      "execution_count": 20,
      "outputs": [
        {
          "output_type": "stream",
          "name": "stdout",
          "text": [
            "Fitting 3 folds for each of 54 candidates, totalling 162 fits\n",
            "[CV] END learning_rate=0.01, max_depth=3, n_estimators=50, subsample=0.8; total time=   1.3s\n",
            "[CV] END learning_rate=0.01, max_depth=3, n_estimators=50, subsample=0.8; total time=   0.8s\n",
            "[CV] END learning_rate=0.01, max_depth=3, n_estimators=50, subsample=0.8; total time=   4.4s\n",
            "[CV] END learning_rate=0.01, max_depth=3, n_estimators=50, subsample=1.0; total time=   1.3s\n",
            "[CV] END learning_rate=0.01, max_depth=3, n_estimators=50, subsample=1.0; total time=   0.7s\n",
            "[CV] END learning_rate=0.01, max_depth=3, n_estimators=50, subsample=1.0; total time=   0.7s\n",
            "[CV] END learning_rate=0.01, max_depth=3, n_estimators=100, subsample=0.8; total time=   1.3s\n",
            "[CV] END learning_rate=0.01, max_depth=3, n_estimators=100, subsample=0.8; total time=   1.3s\n",
            "[CV] END learning_rate=0.01, max_depth=3, n_estimators=100, subsample=0.8; total time=   1.3s\n",
            "[CV] END learning_rate=0.01, max_depth=3, n_estimators=100, subsample=1.0; total time=   1.2s\n",
            "[CV] END learning_rate=0.01, max_depth=3, n_estimators=100, subsample=1.0; total time=   1.3s\n",
            "[CV] END learning_rate=0.01, max_depth=3, n_estimators=100, subsample=1.0; total time=   1.3s\n",
            "[CV] END learning_rate=0.01, max_depth=3, n_estimators=200, subsample=0.8; total time=   5.7s\n",
            "[CV] END learning_rate=0.01, max_depth=3, n_estimators=200, subsample=0.8; total time=   2.4s\n",
            "[CV] END learning_rate=0.01, max_depth=3, n_estimators=200, subsample=0.8; total time=   2.4s\n",
            "[CV] END learning_rate=0.01, max_depth=3, n_estimators=200, subsample=1.0; total time=   2.2s\n",
            "[CV] END learning_rate=0.01, max_depth=3, n_estimators=200, subsample=1.0; total time=   2.7s\n",
            "[CV] END learning_rate=0.01, max_depth=3, n_estimators=200, subsample=1.0; total time=   5.0s\n",
            "[CV] END learning_rate=0.01, max_depth=5, n_estimators=50, subsample=0.8; total time=   1.0s\n",
            "[CV] END learning_rate=0.01, max_depth=5, n_estimators=50, subsample=0.8; total time=   1.0s\n",
            "[CV] END learning_rate=0.01, max_depth=5, n_estimators=50, subsample=0.8; total time=   1.0s\n",
            "[CV] END learning_rate=0.01, max_depth=5, n_estimators=50, subsample=1.0; total time=   0.9s\n",
            "[CV] END learning_rate=0.01, max_depth=5, n_estimators=50, subsample=1.0; total time=   4.9s\n",
            "[CV] END learning_rate=0.01, max_depth=5, n_estimators=50, subsample=1.0; total time=   4.7s\n",
            "[CV] END learning_rate=0.01, max_depth=5, n_estimators=100, subsample=0.8; total time=   2.4s\n",
            "[CV] END learning_rate=0.01, max_depth=5, n_estimators=100, subsample=0.8; total time=   2.4s\n",
            "[CV] END learning_rate=0.01, max_depth=5, n_estimators=100, subsample=0.8; total time=   3.8s\n",
            "[CV] END learning_rate=0.01, max_depth=5, n_estimators=100, subsample=1.0; total time=   6.0s\n",
            "[CV] END learning_rate=0.01, max_depth=5, n_estimators=100, subsample=1.0; total time=   1.8s\n",
            "[CV] END learning_rate=0.01, max_depth=5, n_estimators=100, subsample=1.0; total time=   4.5s\n",
            "[CV] END learning_rate=0.01, max_depth=5, n_estimators=200, subsample=0.8; total time=   3.2s\n",
            "[CV] END learning_rate=0.01, max_depth=5, n_estimators=200, subsample=0.8; total time=   6.4s\n",
            "[CV] END learning_rate=0.01, max_depth=5, n_estimators=200, subsample=0.8; total time=   3.2s\n",
            "[CV] END learning_rate=0.01, max_depth=5, n_estimators=200, subsample=1.0; total time=   3.0s\n",
            "[CV] END learning_rate=0.01, max_depth=5, n_estimators=200, subsample=1.0; total time=   4.9s\n",
            "[CV] END learning_rate=0.01, max_depth=5, n_estimators=200, subsample=1.0; total time=   4.4s\n",
            "[CV] END learning_rate=0.01, max_depth=7, n_estimators=50, subsample=0.8; total time=   1.2s\n",
            "[CV] END learning_rate=0.01, max_depth=7, n_estimators=50, subsample=0.8; total time=   1.2s\n",
            "[CV] END learning_rate=0.01, max_depth=7, n_estimators=50, subsample=0.8; total time=   1.2s\n",
            "[CV] END learning_rate=0.01, max_depth=7, n_estimators=50, subsample=1.0; total time=   1.2s\n",
            "[CV] END learning_rate=0.01, max_depth=7, n_estimators=50, subsample=1.0; total time=   1.1s\n",
            "[CV] END learning_rate=0.01, max_depth=7, n_estimators=50, subsample=1.0; total time=   1.1s\n",
            "[CV] END learning_rate=0.01, max_depth=7, n_estimators=100, subsample=0.8; total time=   5.4s\n",
            "[CV] END learning_rate=0.01, max_depth=7, n_estimators=100, subsample=0.8; total time=   3.5s\n",
            "[CV] END learning_rate=0.01, max_depth=7, n_estimators=100, subsample=0.8; total time=   2.7s\n",
            "[CV] END learning_rate=0.01, max_depth=7, n_estimators=100, subsample=1.0; total time=   2.9s\n",
            "[CV] END learning_rate=0.01, max_depth=7, n_estimators=100, subsample=1.0; total time=   6.9s\n",
            "[CV] END learning_rate=0.01, max_depth=7, n_estimators=100, subsample=1.0; total time=   5.3s\n",
            "[CV] END learning_rate=0.01, max_depth=7, n_estimators=200, subsample=0.8; total time=   8.9s\n",
            "[CV] END learning_rate=0.01, max_depth=7, n_estimators=200, subsample=0.8; total time=   8.2s\n",
            "[CV] END learning_rate=0.01, max_depth=7, n_estimators=200, subsample=0.8; total time=   7.5s\n",
            "[CV] END learning_rate=0.01, max_depth=7, n_estimators=200, subsample=1.0; total time=   3.9s\n",
            "[CV] END learning_rate=0.01, max_depth=7, n_estimators=200, subsample=1.0; total time=   4.3s\n",
            "[CV] END learning_rate=0.01, max_depth=7, n_estimators=200, subsample=1.0; total time=   7.2s\n",
            "[CV] END learning_rate=0.1, max_depth=3, n_estimators=50, subsample=0.8; total time=   0.8s\n",
            "[CV] END learning_rate=0.1, max_depth=3, n_estimators=50, subsample=0.8; total time=   0.8s\n",
            "[CV] END learning_rate=0.1, max_depth=3, n_estimators=50, subsample=0.8; total time=   0.8s\n",
            "[CV] END learning_rate=0.1, max_depth=3, n_estimators=50, subsample=1.0; total time=   0.7s\n",
            "[CV] END learning_rate=0.1, max_depth=3, n_estimators=50, subsample=1.0; total time=   0.7s\n",
            "[CV] END learning_rate=0.1, max_depth=3, n_estimators=50, subsample=1.0; total time=   0.7s\n",
            "[CV] END learning_rate=0.1, max_depth=3, n_estimators=100, subsample=0.8; total time=   1.3s\n",
            "[CV] END learning_rate=0.1, max_depth=3, n_estimators=100, subsample=0.8; total time=   1.3s\n",
            "[CV] END learning_rate=0.1, max_depth=3, n_estimators=100, subsample=0.8; total time=   4.8s\n",
            "[CV] END learning_rate=0.1, max_depth=3, n_estimators=100, subsample=1.0; total time=   1.2s\n",
            "[CV] END learning_rate=0.1, max_depth=3, n_estimators=100, subsample=1.0; total time=   1.2s\n",
            "[CV] END learning_rate=0.1, max_depth=3, n_estimators=100, subsample=1.0; total time=   1.2s\n",
            "[CV] END learning_rate=0.1, max_depth=3, n_estimators=200, subsample=0.8; total time=   2.4s\n",
            "[CV] END learning_rate=0.1, max_depth=3, n_estimators=200, subsample=0.8; total time=   2.4s\n",
            "[CV] END learning_rate=0.1, max_depth=3, n_estimators=200, subsample=0.8; total time=   5.2s\n",
            "[CV] END learning_rate=0.1, max_depth=3, n_estimators=200, subsample=1.0; total time=   2.3s\n",
            "[CV] END learning_rate=0.1, max_depth=3, n_estimators=200, subsample=1.0; total time=   2.1s\n",
            "[CV] END learning_rate=0.1, max_depth=3, n_estimators=200, subsample=1.0; total time=   2.1s\n",
            "[CV] END learning_rate=0.1, max_depth=5, n_estimators=50, subsample=0.8; total time=   0.9s\n",
            "[CV] END learning_rate=0.1, max_depth=5, n_estimators=50, subsample=0.8; total time=   1.0s\n",
            "[CV] END learning_rate=0.1, max_depth=5, n_estimators=50, subsample=0.8; total time=   1.0s\n",
            "[CV] END learning_rate=0.1, max_depth=5, n_estimators=50, subsample=1.0; total time=   0.9s\n",
            "[CV] END learning_rate=0.1, max_depth=5, n_estimators=50, subsample=1.0; total time=   3.1s\n",
            "[CV] END learning_rate=0.1, max_depth=5, n_estimators=50, subsample=1.0; total time=   2.0s\n",
            "[CV] END learning_rate=0.1, max_depth=5, n_estimators=100, subsample=0.8; total time=   1.7s\n",
            "[CV] END learning_rate=0.1, max_depth=5, n_estimators=100, subsample=0.8; total time=   1.7s\n",
            "[CV] END learning_rate=0.1, max_depth=5, n_estimators=100, subsample=0.8; total time=   1.7s\n",
            "[CV] END learning_rate=0.1, max_depth=5, n_estimators=100, subsample=1.0; total time=   1.6s\n",
            "[CV] END learning_rate=0.1, max_depth=5, n_estimators=100, subsample=1.0; total time=   1.5s\n",
            "[CV] END learning_rate=0.1, max_depth=5, n_estimators=100, subsample=1.0; total time=   1.6s\n",
            "[CV] END learning_rate=0.1, max_depth=5, n_estimators=200, subsample=0.8; total time=   6.2s\n",
            "[CV] END learning_rate=0.1, max_depth=5, n_estimators=200, subsample=0.8; total time=   3.0s\n",
            "[CV] END learning_rate=0.1, max_depth=5, n_estimators=200, subsample=0.8; total time=   3.0s\n",
            "[CV] END learning_rate=0.1, max_depth=5, n_estimators=200, subsample=1.0; total time=   3.9s\n",
            "[CV] END learning_rate=0.1, max_depth=5, n_estimators=200, subsample=1.0; total time=   4.9s\n",
            "[CV] END learning_rate=0.1, max_depth=5, n_estimators=200, subsample=1.0; total time=   2.7s\n",
            "[CV] END learning_rate=0.1, max_depth=7, n_estimators=50, subsample=0.8; total time=   1.2s\n",
            "[CV] END learning_rate=0.1, max_depth=7, n_estimators=50, subsample=0.8; total time=   1.1s\n",
            "[CV] END learning_rate=0.1, max_depth=7, n_estimators=50, subsample=0.8; total time=   1.8s\n",
            "[CV] END learning_rate=0.1, max_depth=7, n_estimators=50, subsample=1.0; total time=   1.1s\n",
            "[CV] END learning_rate=0.1, max_depth=7, n_estimators=50, subsample=1.0; total time=   3.3s\n",
            "[CV] END learning_rate=0.1, max_depth=7, n_estimators=50, subsample=1.0; total time=   2.2s\n",
            "[CV] END learning_rate=0.1, max_depth=7, n_estimators=100, subsample=0.8; total time=   2.0s\n",
            "[CV] END learning_rate=0.1, max_depth=7, n_estimators=100, subsample=0.8; total time=   1.9s\n",
            "[CV] END learning_rate=0.1, max_depth=7, n_estimators=100, subsample=0.8; total time=   2.0s\n",
            "[CV] END learning_rate=0.1, max_depth=7, n_estimators=100, subsample=1.0; total time=   1.9s\n",
            "[CV] END learning_rate=0.1, max_depth=7, n_estimators=100, subsample=1.0; total time=   2.2s\n",
            "[CV] END learning_rate=0.1, max_depth=7, n_estimators=100, subsample=1.0; total time=   4.9s\n",
            "[CV] END learning_rate=0.1, max_depth=7, n_estimators=200, subsample=0.8; total time=   3.6s\n",
            "[CV] END learning_rate=0.1, max_depth=7, n_estimators=200, subsample=0.8; total time=   3.7s\n",
            "[CV] END learning_rate=0.1, max_depth=7, n_estimators=200, subsample=0.8; total time=   7.0s\n",
            "[CV] END learning_rate=0.1, max_depth=7, n_estimators=200, subsample=1.0; total time=   3.4s\n",
            "[CV] END learning_rate=0.1, max_depth=7, n_estimators=200, subsample=1.0; total time=   3.4s\n",
            "[CV] END learning_rate=0.1, max_depth=7, n_estimators=200, subsample=1.0; total time=   4.5s\n",
            "[CV] END learning_rate=0.2, max_depth=3, n_estimators=50, subsample=0.8; total time=   2.0s\n",
            "[CV] END learning_rate=0.2, max_depth=3, n_estimators=50, subsample=0.8; total time=   1.6s\n",
            "[CV] END learning_rate=0.2, max_depth=3, n_estimators=50, subsample=0.8; total time=   0.8s\n",
            "[CV] END learning_rate=0.2, max_depth=3, n_estimators=50, subsample=1.0; total time=   0.7s\n",
            "[CV] END learning_rate=0.2, max_depth=3, n_estimators=50, subsample=1.0; total time=   0.7s\n",
            "[CV] END learning_rate=0.2, max_depth=3, n_estimators=50, subsample=1.0; total time=   0.7s\n",
            "[CV] END learning_rate=0.2, max_depth=3, n_estimators=100, subsample=0.8; total time=   1.3s\n",
            "[CV] END learning_rate=0.2, max_depth=3, n_estimators=100, subsample=0.8; total time=   1.3s\n",
            "[CV] END learning_rate=0.2, max_depth=3, n_estimators=100, subsample=0.8; total time=   1.3s\n",
            "[CV] END learning_rate=0.2, max_depth=3, n_estimators=100, subsample=1.0; total time=   1.2s\n",
            "[CV] END learning_rate=0.2, max_depth=3, n_estimators=100, subsample=1.0; total time=   1.2s\n",
            "[CV] END learning_rate=0.2, max_depth=3, n_estimators=100, subsample=1.0; total time=   3.1s\n",
            "[CV] END learning_rate=0.2, max_depth=3, n_estimators=200, subsample=0.8; total time=   3.7s\n",
            "[CV] END learning_rate=0.2, max_depth=3, n_estimators=200, subsample=0.8; total time=   2.4s\n",
            "[CV] END learning_rate=0.2, max_depth=3, n_estimators=200, subsample=0.8; total time=   2.3s\n",
            "[CV] END learning_rate=0.2, max_depth=3, n_estimators=200, subsample=1.0; total time=   2.1s\n",
            "[CV] END learning_rate=0.2, max_depth=3, n_estimators=200, subsample=1.0; total time=   4.2s\n",
            "[CV] END learning_rate=0.2, max_depth=3, n_estimators=200, subsample=1.0; total time=   3.4s\n",
            "[CV] END learning_rate=0.2, max_depth=5, n_estimators=50, subsample=0.8; total time=   0.9s\n",
            "[CV] END learning_rate=0.2, max_depth=5, n_estimators=50, subsample=0.8; total time=   1.0s\n",
            "[CV] END learning_rate=0.2, max_depth=5, n_estimators=50, subsample=0.8; total time=   0.9s\n",
            "[CV] END learning_rate=0.2, max_depth=5, n_estimators=50, subsample=1.0; total time=   0.9s\n",
            "[CV] END learning_rate=0.2, max_depth=5, n_estimators=50, subsample=1.0; total time=   0.9s\n",
            "[CV] END learning_rate=0.2, max_depth=5, n_estimators=50, subsample=1.0; total time=   0.9s\n",
            "[CV] END learning_rate=0.2, max_depth=5, n_estimators=100, subsample=0.8; total time=   1.6s\n",
            "[CV] END learning_rate=0.2, max_depth=5, n_estimators=100, subsample=0.8; total time=   1.9s\n",
            "[CV] END learning_rate=0.2, max_depth=5, n_estimators=100, subsample=0.8; total time=   4.4s\n",
            "[CV] END learning_rate=0.2, max_depth=5, n_estimators=100, subsample=1.0; total time=   1.5s\n",
            "[CV] END learning_rate=0.2, max_depth=5, n_estimators=100, subsample=1.0; total time=   1.5s\n",
            "[CV] END learning_rate=0.2, max_depth=5, n_estimators=100, subsample=1.0; total time=   1.5s\n",
            "[CV] END learning_rate=0.2, max_depth=5, n_estimators=200, subsample=0.8; total time=   3.0s\n",
            "[CV] END learning_rate=0.2, max_depth=5, n_estimators=200, subsample=0.8; total time=   5.8s\n",
            "[CV] END learning_rate=0.2, max_depth=5, n_estimators=200, subsample=0.8; total time=   3.8s\n",
            "[CV] END learning_rate=0.2, max_depth=5, n_estimators=200, subsample=1.0; total time=   2.7s\n",
            "[CV] END learning_rate=0.2, max_depth=5, n_estimators=200, subsample=1.0; total time=   2.7s\n",
            "[CV] END learning_rate=0.2, max_depth=5, n_estimators=200, subsample=1.0; total time=   4.3s\n",
            "[CV] END learning_rate=0.2, max_depth=7, n_estimators=50, subsample=0.8; total time=   2.8s\n",
            "[CV] END learning_rate=0.2, max_depth=7, n_estimators=50, subsample=0.8; total time=   1.1s\n",
            "[CV] END learning_rate=0.2, max_depth=7, n_estimators=50, subsample=0.8; total time=   1.1s\n",
            "[CV] END learning_rate=0.2, max_depth=7, n_estimators=50, subsample=1.0; total time=   1.0s\n",
            "[CV] END learning_rate=0.2, max_depth=7, n_estimators=50, subsample=1.0; total time=   1.1s\n",
            "[CV] END learning_rate=0.2, max_depth=7, n_estimators=50, subsample=1.0; total time=   1.0s\n",
            "[CV] END learning_rate=0.2, max_depth=7, n_estimators=100, subsample=0.8; total time=   2.0s\n",
            "[CV] END learning_rate=0.2, max_depth=7, n_estimators=100, subsample=0.8; total time=   1.9s\n",
            "[CV] END learning_rate=0.2, max_depth=7, n_estimators=100, subsample=0.8; total time=   5.4s\n",
            "[CV] END learning_rate=0.2, max_depth=7, n_estimators=100, subsample=1.0; total time=   1.8s\n",
            "[CV] END learning_rate=0.2, max_depth=7, n_estimators=100, subsample=1.0; total time=   1.8s\n",
            "[CV] END learning_rate=0.2, max_depth=7, n_estimators=100, subsample=1.0; total time=   1.8s\n",
            "[CV] END learning_rate=0.2, max_depth=7, n_estimators=200, subsample=0.8; total time=   3.6s\n",
            "[CV] END learning_rate=0.2, max_depth=7, n_estimators=200, subsample=0.8; total time=   7.2s\n",
            "[CV] END learning_rate=0.2, max_depth=7, n_estimators=200, subsample=0.8; total time=   3.7s\n",
            "[CV] END learning_rate=0.2, max_depth=7, n_estimators=200, subsample=1.0; total time=   3.3s\n",
            "[CV] END learning_rate=0.2, max_depth=7, n_estimators=200, subsample=1.0; total time=   6.8s\n",
            "[CV] END learning_rate=0.2, max_depth=7, n_estimators=200, subsample=1.0; total time=   3.3s\n",
            "Best parameters: {'learning_rate': 0.2, 'max_depth': 7, 'n_estimators': 200, 'subsample': 0.8}\n"
          ]
        },
        {
          "output_type": "execute_result",
          "data": {
            "text/plain": [
              "XGBClassifier(base_score=None, booster=None, callbacks=None,\n",
              "              colsample_bylevel=None, colsample_bynode=None,\n",
              "              colsample_bytree=None, device=None, early_stopping_rounds=None,\n",
              "              enable_categorical=False, eval_metric=None, feature_types=None,\n",
              "              gamma=None, grow_policy=None, importance_type=None,\n",
              "              interaction_constraints=None, learning_rate=0.2, max_bin=None,\n",
              "              max_cat_threshold=None, max_cat_to_onehot=None,\n",
              "              max_delta_step=None, max_depth=7, max_leaves=None,\n",
              "              min_child_weight=None, missing=nan, monotone_constraints=None,\n",
              "              multi_strategy=None, n_estimators=200, n_jobs=None,\n",
              "              num_parallel_tree=None, random_state=42, ...)"
            ],
            "text/html": [
              "<style>#sk-container-id-1 {\n",
              "  /* Definition of color scheme common for light and dark mode */\n",
              "  --sklearn-color-text: black;\n",
              "  --sklearn-color-line: gray;\n",
              "  /* Definition of color scheme for unfitted estimators */\n",
              "  --sklearn-color-unfitted-level-0: #fff5e6;\n",
              "  --sklearn-color-unfitted-level-1: #f6e4d2;\n",
              "  --sklearn-color-unfitted-level-2: #ffe0b3;\n",
              "  --sklearn-color-unfitted-level-3: chocolate;\n",
              "  /* Definition of color scheme for fitted estimators */\n",
              "  --sklearn-color-fitted-level-0: #f0f8ff;\n",
              "  --sklearn-color-fitted-level-1: #d4ebff;\n",
              "  --sklearn-color-fitted-level-2: #b3dbfd;\n",
              "  --sklearn-color-fitted-level-3: cornflowerblue;\n",
              "\n",
              "  /* Specific color for light theme */\n",
              "  --sklearn-color-text-on-default-background: var(--sg-text-color, var(--theme-code-foreground, var(--jp-content-font-color1, black)));\n",
              "  --sklearn-color-background: var(--sg-background-color, var(--theme-background, var(--jp-layout-color0, white)));\n",
              "  --sklearn-color-border-box: var(--sg-text-color, var(--theme-code-foreground, var(--jp-content-font-color1, black)));\n",
              "  --sklearn-color-icon: #696969;\n",
              "\n",
              "  @media (prefers-color-scheme: dark) {\n",
              "    /* Redefinition of color scheme for dark theme */\n",
              "    --sklearn-color-text-on-default-background: var(--sg-text-color, var(--theme-code-foreground, var(--jp-content-font-color1, white)));\n",
              "    --sklearn-color-background: var(--sg-background-color, var(--theme-background, var(--jp-layout-color0, #111)));\n",
              "    --sklearn-color-border-box: var(--sg-text-color, var(--theme-code-foreground, var(--jp-content-font-color1, white)));\n",
              "    --sklearn-color-icon: #878787;\n",
              "  }\n",
              "}\n",
              "\n",
              "#sk-container-id-1 {\n",
              "  color: var(--sklearn-color-text);\n",
              "}\n",
              "\n",
              "#sk-container-id-1 pre {\n",
              "  padding: 0;\n",
              "}\n",
              "\n",
              "#sk-container-id-1 input.sk-hidden--visually {\n",
              "  border: 0;\n",
              "  clip: rect(1px 1px 1px 1px);\n",
              "  clip: rect(1px, 1px, 1px, 1px);\n",
              "  height: 1px;\n",
              "  margin: -1px;\n",
              "  overflow: hidden;\n",
              "  padding: 0;\n",
              "  position: absolute;\n",
              "  width: 1px;\n",
              "}\n",
              "\n",
              "#sk-container-id-1 div.sk-dashed-wrapped {\n",
              "  border: 1px dashed var(--sklearn-color-line);\n",
              "  margin: 0 0.4em 0.5em 0.4em;\n",
              "  box-sizing: border-box;\n",
              "  padding-bottom: 0.4em;\n",
              "  background-color: var(--sklearn-color-background);\n",
              "}\n",
              "\n",
              "#sk-container-id-1 div.sk-container {\n",
              "  /* jupyter's `normalize.less` sets `[hidden] { display: none; }`\n",
              "     but bootstrap.min.css set `[hidden] { display: none !important; }`\n",
              "     so we also need the `!important` here to be able to override the\n",
              "     default hidden behavior on the sphinx rendered scikit-learn.org.\n",
              "     See: https://github.com/scikit-learn/scikit-learn/issues/21755 */\n",
              "  display: inline-block !important;\n",
              "  position: relative;\n",
              "}\n",
              "\n",
              "#sk-container-id-1 div.sk-text-repr-fallback {\n",
              "  display: none;\n",
              "}\n",
              "\n",
              "div.sk-parallel-item,\n",
              "div.sk-serial,\n",
              "div.sk-item {\n",
              "  /* draw centered vertical line to link estimators */\n",
              "  background-image: linear-gradient(var(--sklearn-color-text-on-default-background), var(--sklearn-color-text-on-default-background));\n",
              "  background-size: 2px 100%;\n",
              "  background-repeat: no-repeat;\n",
              "  background-position: center center;\n",
              "}\n",
              "\n",
              "/* Parallel-specific style estimator block */\n",
              "\n",
              "#sk-container-id-1 div.sk-parallel-item::after {\n",
              "  content: \"\";\n",
              "  width: 100%;\n",
              "  border-bottom: 2px solid var(--sklearn-color-text-on-default-background);\n",
              "  flex-grow: 1;\n",
              "}\n",
              "\n",
              "#sk-container-id-1 div.sk-parallel {\n",
              "  display: flex;\n",
              "  align-items: stretch;\n",
              "  justify-content: center;\n",
              "  background-color: var(--sklearn-color-background);\n",
              "  position: relative;\n",
              "}\n",
              "\n",
              "#sk-container-id-1 div.sk-parallel-item {\n",
              "  display: flex;\n",
              "  flex-direction: column;\n",
              "}\n",
              "\n",
              "#sk-container-id-1 div.sk-parallel-item:first-child::after {\n",
              "  align-self: flex-end;\n",
              "  width: 50%;\n",
              "}\n",
              "\n",
              "#sk-container-id-1 div.sk-parallel-item:last-child::after {\n",
              "  align-self: flex-start;\n",
              "  width: 50%;\n",
              "}\n",
              "\n",
              "#sk-container-id-1 div.sk-parallel-item:only-child::after {\n",
              "  width: 0;\n",
              "}\n",
              "\n",
              "/* Serial-specific style estimator block */\n",
              "\n",
              "#sk-container-id-1 div.sk-serial {\n",
              "  display: flex;\n",
              "  flex-direction: column;\n",
              "  align-items: center;\n",
              "  background-color: var(--sklearn-color-background);\n",
              "  padding-right: 1em;\n",
              "  padding-left: 1em;\n",
              "}\n",
              "\n",
              "\n",
              "/* Toggleable style: style used for estimator/Pipeline/ColumnTransformer box that is\n",
              "clickable and can be expanded/collapsed.\n",
              "- Pipeline and ColumnTransformer use this feature and define the default style\n",
              "- Estimators will overwrite some part of the style using the `sk-estimator` class\n",
              "*/\n",
              "\n",
              "/* Pipeline and ColumnTransformer style (default) */\n",
              "\n",
              "#sk-container-id-1 div.sk-toggleable {\n",
              "  /* Default theme specific background. It is overwritten whether we have a\n",
              "  specific estimator or a Pipeline/ColumnTransformer */\n",
              "  background-color: var(--sklearn-color-background);\n",
              "}\n",
              "\n",
              "/* Toggleable label */\n",
              "#sk-container-id-1 label.sk-toggleable__label {\n",
              "  cursor: pointer;\n",
              "  display: block;\n",
              "  width: 100%;\n",
              "  margin-bottom: 0;\n",
              "  padding: 0.5em;\n",
              "  box-sizing: border-box;\n",
              "  text-align: center;\n",
              "}\n",
              "\n",
              "#sk-container-id-1 label.sk-toggleable__label-arrow:before {\n",
              "  /* Arrow on the left of the label */\n",
              "  content: \"▸\";\n",
              "  float: left;\n",
              "  margin-right: 0.25em;\n",
              "  color: var(--sklearn-color-icon);\n",
              "}\n",
              "\n",
              "#sk-container-id-1 label.sk-toggleable__label-arrow:hover:before {\n",
              "  color: var(--sklearn-color-text);\n",
              "}\n",
              "\n",
              "/* Toggleable content - dropdown */\n",
              "\n",
              "#sk-container-id-1 div.sk-toggleable__content {\n",
              "  max-height: 0;\n",
              "  max-width: 0;\n",
              "  overflow: hidden;\n",
              "  text-align: left;\n",
              "  /* unfitted */\n",
              "  background-color: var(--sklearn-color-unfitted-level-0);\n",
              "}\n",
              "\n",
              "#sk-container-id-1 div.sk-toggleable__content.fitted {\n",
              "  /* fitted */\n",
              "  background-color: var(--sklearn-color-fitted-level-0);\n",
              "}\n",
              "\n",
              "#sk-container-id-1 div.sk-toggleable__content pre {\n",
              "  margin: 0.2em;\n",
              "  border-radius: 0.25em;\n",
              "  color: var(--sklearn-color-text);\n",
              "  /* unfitted */\n",
              "  background-color: var(--sklearn-color-unfitted-level-0);\n",
              "}\n",
              "\n",
              "#sk-container-id-1 div.sk-toggleable__content.fitted pre {\n",
              "  /* unfitted */\n",
              "  background-color: var(--sklearn-color-fitted-level-0);\n",
              "}\n",
              "\n",
              "#sk-container-id-1 input.sk-toggleable__control:checked~div.sk-toggleable__content {\n",
              "  /* Expand drop-down */\n",
              "  max-height: 200px;\n",
              "  max-width: 100%;\n",
              "  overflow: auto;\n",
              "}\n",
              "\n",
              "#sk-container-id-1 input.sk-toggleable__control:checked~label.sk-toggleable__label-arrow:before {\n",
              "  content: \"▾\";\n",
              "}\n",
              "\n",
              "/* Pipeline/ColumnTransformer-specific style */\n",
              "\n",
              "#sk-container-id-1 div.sk-label input.sk-toggleable__control:checked~label.sk-toggleable__label {\n",
              "  color: var(--sklearn-color-text);\n",
              "  background-color: var(--sklearn-color-unfitted-level-2);\n",
              "}\n",
              "\n",
              "#sk-container-id-1 div.sk-label.fitted input.sk-toggleable__control:checked~label.sk-toggleable__label {\n",
              "  background-color: var(--sklearn-color-fitted-level-2);\n",
              "}\n",
              "\n",
              "/* Estimator-specific style */\n",
              "\n",
              "/* Colorize estimator box */\n",
              "#sk-container-id-1 div.sk-estimator input.sk-toggleable__control:checked~label.sk-toggleable__label {\n",
              "  /* unfitted */\n",
              "  background-color: var(--sklearn-color-unfitted-level-2);\n",
              "}\n",
              "\n",
              "#sk-container-id-1 div.sk-estimator.fitted input.sk-toggleable__control:checked~label.sk-toggleable__label {\n",
              "  /* fitted */\n",
              "  background-color: var(--sklearn-color-fitted-level-2);\n",
              "}\n",
              "\n",
              "#sk-container-id-1 div.sk-label label.sk-toggleable__label,\n",
              "#sk-container-id-1 div.sk-label label {\n",
              "  /* The background is the default theme color */\n",
              "  color: var(--sklearn-color-text-on-default-background);\n",
              "}\n",
              "\n",
              "/* On hover, darken the color of the background */\n",
              "#sk-container-id-1 div.sk-label:hover label.sk-toggleable__label {\n",
              "  color: var(--sklearn-color-text);\n",
              "  background-color: var(--sklearn-color-unfitted-level-2);\n",
              "}\n",
              "\n",
              "/* Label box, darken color on hover, fitted */\n",
              "#sk-container-id-1 div.sk-label.fitted:hover label.sk-toggleable__label.fitted {\n",
              "  color: var(--sklearn-color-text);\n",
              "  background-color: var(--sklearn-color-fitted-level-2);\n",
              "}\n",
              "\n",
              "/* Estimator label */\n",
              "\n",
              "#sk-container-id-1 div.sk-label label {\n",
              "  font-family: monospace;\n",
              "  font-weight: bold;\n",
              "  display: inline-block;\n",
              "  line-height: 1.2em;\n",
              "}\n",
              "\n",
              "#sk-container-id-1 div.sk-label-container {\n",
              "  text-align: center;\n",
              "}\n",
              "\n",
              "/* Estimator-specific */\n",
              "#sk-container-id-1 div.sk-estimator {\n",
              "  font-family: monospace;\n",
              "  border: 1px dotted var(--sklearn-color-border-box);\n",
              "  border-radius: 0.25em;\n",
              "  box-sizing: border-box;\n",
              "  margin-bottom: 0.5em;\n",
              "  /* unfitted */\n",
              "  background-color: var(--sklearn-color-unfitted-level-0);\n",
              "}\n",
              "\n",
              "#sk-container-id-1 div.sk-estimator.fitted {\n",
              "  /* fitted */\n",
              "  background-color: var(--sklearn-color-fitted-level-0);\n",
              "}\n",
              "\n",
              "/* on hover */\n",
              "#sk-container-id-1 div.sk-estimator:hover {\n",
              "  /* unfitted */\n",
              "  background-color: var(--sklearn-color-unfitted-level-2);\n",
              "}\n",
              "\n",
              "#sk-container-id-1 div.sk-estimator.fitted:hover {\n",
              "  /* fitted */\n",
              "  background-color: var(--sklearn-color-fitted-level-2);\n",
              "}\n",
              "\n",
              "/* Specification for estimator info (e.g. \"i\" and \"?\") */\n",
              "\n",
              "/* Common style for \"i\" and \"?\" */\n",
              "\n",
              ".sk-estimator-doc-link,\n",
              "a:link.sk-estimator-doc-link,\n",
              "a:visited.sk-estimator-doc-link {\n",
              "  float: right;\n",
              "  font-size: smaller;\n",
              "  line-height: 1em;\n",
              "  font-family: monospace;\n",
              "  background-color: var(--sklearn-color-background);\n",
              "  border-radius: 1em;\n",
              "  height: 1em;\n",
              "  width: 1em;\n",
              "  text-decoration: none !important;\n",
              "  margin-left: 1ex;\n",
              "  /* unfitted */\n",
              "  border: var(--sklearn-color-unfitted-level-1) 1pt solid;\n",
              "  color: var(--sklearn-color-unfitted-level-1);\n",
              "}\n",
              "\n",
              ".sk-estimator-doc-link.fitted,\n",
              "a:link.sk-estimator-doc-link.fitted,\n",
              "a:visited.sk-estimator-doc-link.fitted {\n",
              "  /* fitted */\n",
              "  border: var(--sklearn-color-fitted-level-1) 1pt solid;\n",
              "  color: var(--sklearn-color-fitted-level-1);\n",
              "}\n",
              "\n",
              "/* On hover */\n",
              "div.sk-estimator:hover .sk-estimator-doc-link:hover,\n",
              ".sk-estimator-doc-link:hover,\n",
              "div.sk-label-container:hover .sk-estimator-doc-link:hover,\n",
              ".sk-estimator-doc-link:hover {\n",
              "  /* unfitted */\n",
              "  background-color: var(--sklearn-color-unfitted-level-3);\n",
              "  color: var(--sklearn-color-background);\n",
              "  text-decoration: none;\n",
              "}\n",
              "\n",
              "div.sk-estimator.fitted:hover .sk-estimator-doc-link.fitted:hover,\n",
              ".sk-estimator-doc-link.fitted:hover,\n",
              "div.sk-label-container:hover .sk-estimator-doc-link.fitted:hover,\n",
              ".sk-estimator-doc-link.fitted:hover {\n",
              "  /* fitted */\n",
              "  background-color: var(--sklearn-color-fitted-level-3);\n",
              "  color: var(--sklearn-color-background);\n",
              "  text-decoration: none;\n",
              "}\n",
              "\n",
              "/* Span, style for the box shown on hovering the info icon */\n",
              ".sk-estimator-doc-link span {\n",
              "  display: none;\n",
              "  z-index: 9999;\n",
              "  position: relative;\n",
              "  font-weight: normal;\n",
              "  right: .2ex;\n",
              "  padding: .5ex;\n",
              "  margin: .5ex;\n",
              "  width: min-content;\n",
              "  min-width: 20ex;\n",
              "  max-width: 50ex;\n",
              "  color: var(--sklearn-color-text);\n",
              "  box-shadow: 2pt 2pt 4pt #999;\n",
              "  /* unfitted */\n",
              "  background: var(--sklearn-color-unfitted-level-0);\n",
              "  border: .5pt solid var(--sklearn-color-unfitted-level-3);\n",
              "}\n",
              "\n",
              ".sk-estimator-doc-link.fitted span {\n",
              "  /* fitted */\n",
              "  background: var(--sklearn-color-fitted-level-0);\n",
              "  border: var(--sklearn-color-fitted-level-3);\n",
              "}\n",
              "\n",
              ".sk-estimator-doc-link:hover span {\n",
              "  display: block;\n",
              "}\n",
              "\n",
              "/* \"?\"-specific style due to the `<a>` HTML tag */\n",
              "\n",
              "#sk-container-id-1 a.estimator_doc_link {\n",
              "  float: right;\n",
              "  font-size: 1rem;\n",
              "  line-height: 1em;\n",
              "  font-family: monospace;\n",
              "  background-color: var(--sklearn-color-background);\n",
              "  border-radius: 1rem;\n",
              "  height: 1rem;\n",
              "  width: 1rem;\n",
              "  text-decoration: none;\n",
              "  /* unfitted */\n",
              "  color: var(--sklearn-color-unfitted-level-1);\n",
              "  border: var(--sklearn-color-unfitted-level-1) 1pt solid;\n",
              "}\n",
              "\n",
              "#sk-container-id-1 a.estimator_doc_link.fitted {\n",
              "  /* fitted */\n",
              "  border: var(--sklearn-color-fitted-level-1) 1pt solid;\n",
              "  color: var(--sklearn-color-fitted-level-1);\n",
              "}\n",
              "\n",
              "/* On hover */\n",
              "#sk-container-id-1 a.estimator_doc_link:hover {\n",
              "  /* unfitted */\n",
              "  background-color: var(--sklearn-color-unfitted-level-3);\n",
              "  color: var(--sklearn-color-background);\n",
              "  text-decoration: none;\n",
              "}\n",
              "\n",
              "#sk-container-id-1 a.estimator_doc_link.fitted:hover {\n",
              "  /* fitted */\n",
              "  background-color: var(--sklearn-color-fitted-level-3);\n",
              "}\n",
              "</style><div id=\"sk-container-id-1\" class=\"sk-top-container\"><div class=\"sk-text-repr-fallback\"><pre>XGBClassifier(base_score=None, booster=None, callbacks=None,\n",
              "              colsample_bylevel=None, colsample_bynode=None,\n",
              "              colsample_bytree=None, device=None, early_stopping_rounds=None,\n",
              "              enable_categorical=False, eval_metric=None, feature_types=None,\n",
              "              gamma=None, grow_policy=None, importance_type=None,\n",
              "              interaction_constraints=None, learning_rate=0.2, max_bin=None,\n",
              "              max_cat_threshold=None, max_cat_to_onehot=None,\n",
              "              max_delta_step=None, max_depth=7, max_leaves=None,\n",
              "              min_child_weight=None, missing=nan, monotone_constraints=None,\n",
              "              multi_strategy=None, n_estimators=200, n_jobs=None,\n",
              "              num_parallel_tree=None, random_state=42, ...)</pre><b>In a Jupyter environment, please rerun this cell to show the HTML representation or trust the notebook. <br />On GitHub, the HTML representation is unable to render, please try loading this page with nbviewer.org.</b></div><div class=\"sk-container\" hidden><div class=\"sk-item\"><div class=\"sk-estimator fitted sk-toggleable\"><input class=\"sk-toggleable__control sk-hidden--visually\" id=\"sk-estimator-id-1\" type=\"checkbox\" checked><label for=\"sk-estimator-id-1\" class=\"sk-toggleable__label fitted sk-toggleable__label-arrow fitted\">&nbsp;XGBClassifier<span class=\"sk-estimator-doc-link fitted\">i<span>Fitted</span></span></label><div class=\"sk-toggleable__content fitted\"><pre>XGBClassifier(base_score=None, booster=None, callbacks=None,\n",
              "              colsample_bylevel=None, colsample_bynode=None,\n",
              "              colsample_bytree=None, device=None, early_stopping_rounds=None,\n",
              "              enable_categorical=False, eval_metric=None, feature_types=None,\n",
              "              gamma=None, grow_policy=None, importance_type=None,\n",
              "              interaction_constraints=None, learning_rate=0.2, max_bin=None,\n",
              "              max_cat_threshold=None, max_cat_to_onehot=None,\n",
              "              max_delta_step=None, max_depth=7, max_leaves=None,\n",
              "              min_child_weight=None, missing=nan, monotone_constraints=None,\n",
              "              multi_strategy=None, n_estimators=200, n_jobs=None,\n",
              "              num_parallel_tree=None, random_state=42, ...)</pre></div> </div></div></div></div>"
            ]
          },
          "metadata": {},
          "execution_count": 20
        }
      ]
    },
    {
      "cell_type": "markdown",
      "source": [
        "### Model Evaluation"
      ],
      "metadata": {
        "id": "ijNu6NBDjtyY"
      }
    },
    {
      "cell_type": "code",
      "source": [
        "from sklearn.metrics import confusion_matrix, classification_report\n",
        "import seaborn as sns\n",
        "\n",
        "# Make predictions on the test set\n",
        "y_pred = best_xgb.predict(X_test)\n",
        "\n",
        "# Generate a confusion matrix\n",
        "cm = confusion_matrix(y_test, y_pred)\n",
        "\n",
        "# Plot confusion matrix as a heatmap\n",
        "plt.figure(figsize=(8, 6))\n",
        "sns.heatmap(cm, annot=True, fmt='d', cmap='Blues', xticklabels=['Normal', 'Anomaly'], yticklabels=['Normal', 'Anomaly'])\n",
        "plt.title('Confusion Matrix')\n",
        "plt.xlabel('Predicted Label')\n",
        "plt.ylabel('True Label')\n",
        "plt.show()\n",
        "\n",
        "# Print a detailed classification report\n",
        "print(\"\\nClassification Report:\\n\", classification_report(y_test, y_pred))\n"
      ],
      "metadata": {
        "colab": {
          "base_uri": "https://localhost:8080/",
          "height": 771
        },
        "id": "Ao6_Uv98jhyY",
        "outputId": "4f0a1140-9049-4993-e8e0-23a94b1bcc3a"
      },
      "execution_count": 21,
      "outputs": [
        {
          "output_type": "display_data",
          "data": {
            "text/plain": [
              "<Figure size 800x600 with 2 Axes>"
            ],
            "image/png": "[encoded data removed]"
          },
          "metadata": {}
        },
        {
          "output_type": "stream",
          "name": "stdout",
          "text": [
            "\n",
            "Classification Report:\n",
            "               precision    recall  f1-score   support\n",
            "\n",
            "           0       0.99      0.92      0.95     78931\n",
            "           1       0.92      0.99      0.96     78455\n",
            "\n",
            "    accuracy                           0.95    157386\n",
            "   macro avg       0.96      0.95      0.95    157386\n",
            "weighted avg       0.96      0.95      0.95    157386\n",
            "\n"
          ]
        }
      ]
    },
    {
      "cell_type": "markdown",
      "source": [
        "### Precision, Recall, and F1 Curve"
      ],
      "metadata": {
        "id": "TdRPEjphj80y"
      }
    },
    {
      "cell_type": "code",
      "source": [
        "from sklearn.metrics import precision_recall_curve, f1_score, accuracy_score\n",
        "\n",
        "# Get prediction probabilities for the positive class\n",
        "y_proba = best_xgb.predict_proba(X_test)[:, 1]\n",
        "\n",
        "# Calculate precision, recall, and thresholds\n",
        "precision, recall, thresholds = precision_recall_curve(y_test, y_proba)\n",
        "\n",
        "# Calculate F1 score for each threshold\n",
        "f1 = 2 * (precision * recall) / (precision + recall)\n",
        "\n",
        "# Calculate accuracy for each threshold\n",
        "accuracy = []\n",
        "for threshold in thresholds:\n",
        "    y_pred = (y_proba >= threshold).astype(int)\n",
        "    accuracy.append(accuracy_score(y_test, y_pred))\n",
        "\n",
        "# Plot Precision, Recall, F1 Score, and Accuracy curves\n",
        "plt.figure(figsize=(12, 8))\n",
        "plt.plot(thresholds, precision[:-1], label='Precision', color='blue')\n",
        "plt.plot(thresholds, recall[:-1], label='Recall', color='green')\n",
        "plt.plot(thresholds, f1[:-1], label='F1 Score', color='red')\n",
        "plt.plot(thresholds, accuracy, label='Accuracy', color='purple')\n",
        "plt.title(\"Precision, Recall, F1 Score, and Accuracy vs Threshold\")\n",
        "plt.xlabel(\"Threshold\")\n",
        "plt.ylabel(\"Score\")\n",
        "plt.legend()\n",
        "plt.grid()\n",
        "plt.show()\n",
        "\n",
        "# Print the optimal threshold (based on maximum F1 Score)\n",
        "optimal_idx = np.argmax(f1)\n",
        "optimal_threshold = thresholds[optimal_idx]\n",
        "print(\"Optimal Threshold (based on F1):\", optimal_threshold)\n",
        "\n",
        "# Print the accuracy at the optimal threshold\n",
        "optimal_accuracy = accuracy[optimal_idx]\n",
        "print(\"Accuracy at Optimal Threshold:\", optimal_accuracy)\n"
      ],
      "metadata": {
        "colab": {
          "base_uri": "https://localhost:8080/",
          "height": 756
        },
        "id": "SrbEi7eOkAOF",
        "outputId": "5f15f1b0-e851-49ae-80a5-c3703eff5567"
      },
      "execution_count": 22,
      "outputs": [
        {
          "output_type": "display_data",
          "data": {
            "text/plain": [
              "<Figure size 1200x800 with 1 Axes>"
            ],
            "image/png": "[encoded data removed]"
          },
          "metadata": {}
        },
        {
          "output_type": "stream",
          "name": "stdout",
          "text": [
            "Optimal Threshold (based on F1): 0.5749227\n",
            "Accuracy at Optimal Threshold: 0.958230083997306\n"
          ]
        }
      ]
    },
    {
      "cell_type": "markdown",
      "source": [
        "## Analyzing Feature Importance"
      ],
      "metadata": {
        "id": "wDj6t9ffqKVq"
      }
    },
    {
      "cell_type": "code",
      "source": [
        "# Feature importance from the XGBoost model\n",
        "feature_importances = best_xgb.feature_importances_\n",
        "features = X_train.columns\n",
        "\n",
        "# Plot feature importance\n",
        "plt.figure(figsize=(8, 6))\n",
        "sns.barplot(x=feature_importances, y=features, palette=\"viridis\")\n",
        "plt.title(\"Feature Importance\")\n",
        "plt.xlabel(\"Importance Score\")\n",
        "plt.ylabel(\"Features\")\n",
        "plt.show()\n"
      ],
      "metadata": {
        "colab": {
          "base_uri": "https://localhost:8080/",
          "height": 658
        },
        "id": "fvhGn2WSl1B5",
        "outputId": "5e0b919a-214c-4067-8016-162e01132255"
      },
      "execution_count": 23,
      "outputs": [
        {
          "output_type": "stream",
          "name": "stderr",
          "text": [
            "<ipython-input-23-a9cfc1024335>:7: FutureWarning: \n",
            "\n",
            "Passing `palette` without assigning `hue` is deprecated and will be removed in v0.14.0. Assign the `y` variable to `hue` and set `legend=False` for the same effect.\n",
            "\n",
            "  sns.barplot(x=feature_importances, y=features, palette=\"viridis\")\n"
          ]
        },
        {
          "output_type": "display_data",
          "data": {
            "text/plain": [
              "<Figure size 800x600 with 1 Axes>"
            ],
            "image/png": "[encoded data removed]"
          },
          "metadata": {}
        }
      ]
    },
    {
      "cell_type": "markdown",
      "source": [
        "### Experimenting with additional features"
      ],
      "metadata": {
        "id": "j1z-RQfGqXyn"
      }
    },
    {
      "cell_type": "code",
      "source": [
        "# Adding GMM cluster probabilities as additional features\n",
        "gmm_probs = gmm.predict_proba(scaled_data)\n",
        "for i in range(gmm_probs.shape[1]):\n",
        "    df[f'Cluster_Prob_{i}'] = gmm_probs[:, i]\n",
        "\n",
        "# Re-define X to include original features, PCA components, and cluster probabilities\n",
        "X_new = df[['PC1', 'PC2'] + [f'Cluster_Prob_{i}' for i in range(gmm_probs.shape[1])]]\n",
        "y_new = df['Anomaly']\n",
        "\n",
        "# Split into train-test sets again\n",
        "X_train_new, X_test_new, y_train_new, y_test_new = train_test_split(X_new, y_new, test_size=0.3, random_state=42)\n"
      ],
      "metadata": {
        "id": "ykYEVH6gqQOo"
      },
      "execution_count": 24,
      "outputs": []
    },
    {
      "cell_type": "markdown",
      "source": [
        "### CV for Reliable Metrics"
      ],
      "metadata": {
        "id": "FM_yDJm_qk0q"
      }
    },
    {
      "cell_type": "code",
      "source": [
        "from sklearn.model_selection import cross_val_score\n",
        "\n",
        "# Perform cross-validation on the best XGBoost model\n",
        "cv_scores = cross_val_score(best_xgb, X_train, y_train, cv=5, scoring='f1')\n",
        "\n",
        "# Print average F1 score and standard deviation\n",
        "print(\"Cross-Validation F1 Scores:\", cv_scores)\n",
        "print(\"Mean F1 Score:\", np.mean(cv_scores))\n",
        "print(\"Standard Deviation:\", np.std(cv_scores))\n"
      ],
      "metadata": {
        "colab": {
          "base_uri": "https://localhost:8080/"
        },
        "id": "We9HnTyAqbuR",
        "outputId": "0c9fa42b-3d1f-461e-8069-451d826aed64"
      },
      "execution_count": 25,
      "outputs": [
        {
          "output_type": "stream",
          "name": "stdout",
          "text": [
            "Cross-Validation F1 Scores: [0.95717964 0.9550999  0.9553107  0.95656848 0.9560895 ]\n",
            "Mean F1 Score: 0.9560496433192138\n",
            "Standard Deviation: 0.0007740415301431492\n"
          ]
        }
      ]
    },
    {
      "cell_type": "markdown",
      "source": [
        "### Visualization with ROC-AUC Curve"
      ],
      "metadata": {
        "id": "4YITgMVgq4cR"
      }
    },
    {
      "cell_type": "code",
      "source": [
        "from sklearn.metrics import roc_curve, auc\n",
        "\n",
        "# Get prediction probabilities for the positive class\n",
        "y_proba = best_xgb.predict_proba(X_test)[:, 1]\n",
        "\n",
        "# Calculate ROC curve\n",
        "fpr, tpr, thresholds = roc_curve(y_test, y_proba)\n",
        "roc_auc = auc(fpr, tpr)\n",
        "\n",
        "# Plot ROC-AUC curve\n",
        "plt.figure(figsize=(10, 6))\n",
        "plt.plot(fpr, tpr, color='blue', label=f'ROC Curve (AUC = {roc_auc:.2f})')\n",
        "plt.plot([0, 1], [0, 1], color='red', linestyle='--')\n",
        "plt.title(\"Receiver Operating Characteristic (ROC) Curve\")\n",
        "plt.xlabel(\"False Positive Rate\")\n",
        "plt.ylabel(\"True Positive Rate\")\n",
        "plt.legend()\n",
        "plt.show()\n"
      ],
      "metadata": {
        "colab": {
          "base_uri": "https://localhost:8080/",
          "height": 564
        },
        "id": "XkVnmbyhqsCq",
        "outputId": "5941d148-958b-4a71-cc32-5a2bb411d347"
      },
      "execution_count": 26,
      "outputs": [
        {
          "output_type": "display_data",
          "data": {
            "text/plain": [
              "<Figure size 1000x600 with 1 Axes>"
            ],
            "image/png": "[encoded data removed]"
          },
          "metadata": {}
        }
      ]
    },
    {
      "cell_type": "markdown",
      "source": [
        "### Hyprparameter Optimization with Randomized Search"
      ],
      "metadata": {
        "id": "hU9hc7MWrHO0"
      }
    },
    {
      "cell_type": "code",
      "source": [
        "from sklearn.model_selection import RandomizedSearchCV\n",
        "\n",
        "# Define the parameter grid\n",
        "param_dist = {\n",
        "    'n_estimators': [50, 100, 200],\n",
        "    'max_depth': [3, 5, 7],\n",
        "    'learning_rate': [0.01, 0.05, 0.1, 0.2],\n",
        "    'subsample': [0.8, 0.9, 1.0],\n",
        "    'colsample_bytree': [0.8, 1.0]\n",
        "}\n",
        "\n",
        "# Perform randomized search\n",
        "random_search = RandomizedSearchCV(estimator=XGBClassifier(random_state=42),\n",
        "                                   param_distributions=param_dist,\n",
        "                                   n_iter=20,\n",
        "                                   scoring='f1',\n",
        "                                   cv=3,\n",
        "                                   random_state=42,\n",
        "                                   verbose=2)\n",
        "\n",
        "random_search.fit(X_train, y_train)\n",
        "\n",
        "# Get the best model and parameters\n",
        "best_model = random_search.best_estimator_\n",
        "print(\"Best Parameters:\", random_search.best_params_)\n"
      ],
      "metadata": {
        "colab": {
          "base_uri": "https://localhost:8080/"
        },
        "id": "ZxsDK-Wvq9eT",
        "outputId": "c3a06192-86ca-441e-b3cc-24bcb7e34de4"
      },
      "execution_count": 27,
      "outputs": [
        {
          "output_type": "stream",
          "name": "stdout",
          "text": [
            "Fitting 3 folds for each of 20 candidates, totalling 60 fits\n",
            "[CV] END colsample_bytree=1.0, learning_rate=0.2, max_depth=5, n_estimators=100, subsample=0.8; total time=   4.9s\n",
            "[CV] END colsample_bytree=1.0, learning_rate=0.2, max_depth=5, n_estimators=100, subsample=0.8; total time=   2.3s\n",
            "[CV] END colsample_bytree=1.0, learning_rate=0.2, max_depth=5, n_estimators=100, subsample=0.8; total time=   1.6s\n",
            "[CV] END colsample_bytree=1.0, learning_rate=0.2, max_depth=7, n_estimators=200, subsample=0.8; total time=   3.8s\n",
            "[CV] END colsample_bytree=1.0, learning_rate=0.2, max_depth=7, n_estimators=200, subsample=0.8; total time=   6.7s\n",
            "[CV] END colsample_bytree=1.0, learning_rate=0.2, max_depth=7, n_estimators=200, subsample=0.8; total time=   6.7s\n",
            "[CV] END colsample_bytree=1.0, learning_rate=0.05, max_depth=3, n_estimators=100, subsample=0.8; total time=   1.7s\n",
            "[CV] END colsample_bytree=1.0, learning_rate=0.05, max_depth=3, n_estimators=100, subsample=0.8; total time=   3.9s\n",
            "[CV] END colsample_bytree=1.0, learning_rate=0.05, max_depth=3, n_estimators=100, subsample=0.8; total time=   1.3s\n",
            "[CV] END colsample_bytree=1.0, learning_rate=0.1, max_depth=5, n_estimators=200, subsample=0.8; total time=   2.9s\n",
            "[CV] END colsample_bytree=1.0, learning_rate=0.1, max_depth=5, n_estimators=200, subsample=0.8; total time=   3.0s\n",
            "[CV] END colsample_bytree=1.0, learning_rate=0.1, max_depth=5, n_estimators=200, subsample=0.8; total time=   3.0s\n",
            "[CV] END colsample_bytree=0.8, learning_rate=0.01, max_depth=5, n_estimators=200, subsample=0.8; total time=  10.3s\n",
            "[CV] END colsample_bytree=0.8, learning_rate=0.01, max_depth=5, n_estimators=200, subsample=0.8; total time=  10.6s\n",
            "[CV] END colsample_bytree=0.8, learning_rate=0.01, max_depth=5, n_estimators=200, subsample=0.8; total time=   5.9s\n",
            "[CV] END colsample_bytree=1.0, learning_rate=0.01, max_depth=3, n_estimators=100, subsample=0.8; total time=   1.3s\n",
            "[CV] END colsample_bytree=1.0, learning_rate=0.01, max_depth=3, n_estimators=100, subsample=0.8; total time=   1.3s\n",
            "[CV] END colsample_bytree=1.0, learning_rate=0.01, max_depth=3, n_estimators=100, subsample=0.8; total time=   4.0s\n",
            "[CV] END colsample_bytree=1.0, learning_rate=0.1, max_depth=7, n_estimators=50, subsample=1.0; total time=   1.4s\n",
            "[CV] END colsample_bytree=1.0, learning_rate=0.1, max_depth=7, n_estimators=50, subsample=1.0; total time=   1.1s\n",
            "[CV] END colsample_bytree=1.0, learning_rate=0.1, max_depth=7, n_estimators=50, subsample=1.0; total time=   1.1s\n",
            "[CV] END colsample_bytree=0.8, learning_rate=0.1, max_depth=7, n_estimators=50, subsample=0.9; total time=   1.2s\n",
            "[CV] END colsample_bytree=0.8, learning_rate=0.1, max_depth=7, n_estimators=50, subsample=0.9; total time=   1.2s\n",
            "[CV] END colsample_bytree=0.8, learning_rate=0.1, max_depth=7, n_estimators=50, subsample=0.9; total time=   1.2s\n",
            "[CV] END colsample_bytree=1.0, learning_rate=0.2, max_depth=5, n_estimators=200, subsample=0.9; total time=   3.7s\n",
            "[CV] END colsample_bytree=1.0, learning_rate=0.2, max_depth=5, n_estimators=200, subsample=0.9; total time=   9.4s\n",
            "[CV] END colsample_bytree=1.0, learning_rate=0.2, max_depth=5, n_estimators=200, subsample=0.9; total time=   3.6s\n",
            "[CV] END colsample_bytree=1.0, learning_rate=0.05, max_depth=3, n_estimators=100, subsample=0.9; total time=   8.5s\n",
            "[CV] END colsample_bytree=1.0, learning_rate=0.05, max_depth=3, n_estimators=100, subsample=0.9; total time=   3.9s\n",
            "[CV] END colsample_bytree=1.0, learning_rate=0.05, max_depth=3, n_estimators=100, subsample=0.9; total time=   1.3s\n",
            "[CV] END colsample_bytree=1.0, learning_rate=0.05, max_depth=7, n_estimators=200, subsample=0.8; total time=   5.0s\n",
            "[CV] END colsample_bytree=1.0, learning_rate=0.05, max_depth=7, n_estimators=200, subsample=0.8; total time=   5.4s\n",
            "[CV] END colsample_bytree=1.0, learning_rate=0.05, max_depth=7, n_estimators=200, subsample=0.8; total time=   5.1s\n",
            "[CV] END colsample_bytree=0.8, learning_rate=0.05, max_depth=3, n_estimators=100, subsample=0.8; total time=   1.7s\n",
            "[CV] END colsample_bytree=0.8, learning_rate=0.05, max_depth=3, n_estimators=100, subsample=0.8; total time=   6.0s\n",
            "[CV] END colsample_bytree=0.8, learning_rate=0.05, max_depth=3, n_estimators=100, subsample=0.8; total time=   3.6s\n",
            "[CV] END colsample_bytree=1.0, learning_rate=0.2, max_depth=3, n_estimators=50, subsample=0.9; total time=   1.5s\n",
            "[CV] END colsample_bytree=1.0, learning_rate=0.2, max_depth=3, n_estimators=50, subsample=0.9; total time=   2.5s\n",
            "[CV] END colsample_bytree=1.0, learning_rate=0.2, max_depth=3, n_estimators=50, subsample=0.9; total time=   3.6s\n",
            "[CV] END colsample_bytree=0.8, learning_rate=0.01, max_depth=5, n_estimators=50, subsample=0.8; total time=   4.0s\n",
            "[CV] END colsample_bytree=0.8, learning_rate=0.01, max_depth=5, n_estimators=50, subsample=0.8; total time=   1.0s\n",
            "[CV] END colsample_bytree=0.8, learning_rate=0.01, max_depth=5, n_estimators=50, subsample=0.8; total time=   1.0s\n",
            "[CV] END colsample_bytree=0.8, learning_rate=0.1, max_depth=5, n_estimators=100, subsample=0.9; total time=   2.4s\n",
            "[CV] END colsample_bytree=0.8, learning_rate=0.1, max_depth=5, n_estimators=100, subsample=0.9; total time=   1.8s\n",
            "[CV] END colsample_bytree=0.8, learning_rate=0.1, max_depth=5, n_estimators=100, subsample=0.9; total time=   2.4s\n",
            "[CV] END colsample_bytree=1.0, learning_rate=0.1, max_depth=5, n_estimators=100, subsample=1.0; total time=   7.3s\n",
            "[CV] END colsample_bytree=1.0, learning_rate=0.1, max_depth=5, n_estimators=100, subsample=1.0; total time=   3.9s\n",
            "[CV] END colsample_bytree=1.0, learning_rate=0.1, max_depth=5, n_estimators=100, subsample=1.0; total time=   1.5s\n",
            "[CV] END colsample_bytree=1.0, learning_rate=0.1, max_depth=5, n_estimators=50, subsample=0.9; total time=   0.9s\n",
            "[CV] END colsample_bytree=1.0, learning_rate=0.1, max_depth=5, n_estimators=50, subsample=0.9; total time=   1.0s\n",
            "[CV] END colsample_bytree=1.0, learning_rate=0.1, max_depth=5, n_estimators=50, subsample=0.9; total time=   3.8s\n",
            "[CV] END colsample_bytree=0.8, learning_rate=0.01, max_depth=7, n_estimators=50, subsample=0.8; total time=   1.3s\n",
            "[CV] END colsample_bytree=0.8, learning_rate=0.01, max_depth=7, n_estimators=50, subsample=0.8; total time=   1.2s\n",
            "[CV] END colsample_bytree=0.8, learning_rate=0.01, max_depth=7, n_estimators=50, subsample=0.8; total time=   1.2s\n",
            "[CV] END colsample_bytree=1.0, learning_rate=0.05, max_depth=7, n_estimators=50, subsample=0.9; total time=   1.2s\n",
            "[CV] END colsample_bytree=1.0, learning_rate=0.05, max_depth=7, n_estimators=50, subsample=0.9; total time=   1.2s\n",
            "[CV] END colsample_bytree=1.0, learning_rate=0.05, max_depth=7, n_estimators=50, subsample=0.9; total time=   1.2s\n",
            "[CV] END colsample_bytree=0.8, learning_rate=0.1, max_depth=5, n_estimators=100, subsample=0.8; total time=   1.7s\n",
            "[CV] END colsample_bytree=0.8, learning_rate=0.1, max_depth=5, n_estimators=100, subsample=0.8; total time=   3.1s\n",
            "[CV] END colsample_bytree=0.8, learning_rate=0.1, max_depth=5, n_estimators=100, subsample=0.8; total time=   3.5s\n",
            "Best Parameters: {'subsample': 0.8, 'n_estimators': 200, 'max_depth': 7, 'learning_rate': 0.2, 'colsample_bytree': 1.0}\n"
          ]
        }
      ]
    },
    {
      "cell_type": "markdown",
      "source": [
        "### Analyze Class Distribution After Prediction"
      ],
      "metadata": {
        "id": "OZ-GxbLWrV9N"
      }
    },
    {
      "cell_type": "code",
      "source": [
        "# Predicted class distribution\n",
        "predicted_class_distribution = pd.Series(best_xgb.predict(X_test)).value_counts()\n",
        "print(\"Predicted Class Distribution:\\n\", predicted_class_distribution)\n",
        "\n",
        "# Plot predicted class distribution\n",
        "predicted_class_distribution.plot(kind='bar', color=['blue', 'orange'], figsize=(6, 4))\n",
        "plt.title(\"Predicted Class Distribution\")\n",
        "plt.xlabel(\"Class\")\n",
        "plt.ylabel(\"Count\")\n",
        "plt.show()\n"
      ],
      "metadata": {
        "colab": {
          "base_uri": "https://localhost:8080/",
          "height": 480
        },
        "id": "gNXPD_YPrLCe",
        "outputId": "4db87c51-6951-4ba9-8c34-0f43251698b2"
      },
      "execution_count": 28,
      "outputs": [
        {
          "output_type": "stream",
          "name": "stdout",
          "text": [
            "Predicted Class Distribution:\n",
            " 1    84271\n",
            "0    73115\n",
            "Name: count, dtype: int64\n"
          ]
        },
        {
          "output_type": "display_data",
          "data": {
            "text/plain": [
              "<Figure size 600x400 with 1 Axes>"
            ],
            "image/png": "[encoded data removed]"
          },
          "metadata": {}
        }
      ]
    },
    {
      "cell_type": "markdown",
      "source": [
        "### Deploy the model"
      ],
      "metadata": {
        "id": "ZJ2Ey-FPrhs8"
      }
    },
    {
      "cell_type": "code",
      "source": [
        "from sklearn.pipeline import Pipeline\n",
        "\n",
        "# Create a complete pipeline\n",
        "final_pipeline = Pipeline([\n",
        "    ('scaler', StandardScaler()),\n",
        "    ('pca', PCA(n_components=2)),\n",
        "    ('classifier', best_xgb)\n",
        "])\n",
        "\n",
        "# Fit the pipeline on the entire training dataset\n",
        "final_pipeline.fit(X_train, y_train)\n",
        "\n",
        "# Save the final pipeline\n",
        "with open('drive/MyDrive/Intent-Based Energy Reduction/Models/final_pipeline.pkl', 'wb') as f:\n",
        "    pickle.dump(final_pipeline, f)\n"
      ],
      "metadata": {
        "id": "nFrP3zFCrg44"
      },
      "execution_count": null,
      "outputs": []
    },
    {
      "cell_type": "code",
      "source": [],
      "metadata": {
        "id": "BghjRnvAuMgA"
      },
      "execution_count": null,
      "outputs": []
    }
  ]
}